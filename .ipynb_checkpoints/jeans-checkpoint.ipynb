{
 "cells": [
  {
   "cell_type": "markdown",
   "metadata": {
    "id": "YaP0KCweiSzA"
   },
   "source": [
    "# What's Your Jean-o-Type?"
   ]
  },
  {
   "cell_type": "markdown",
   "metadata": {
    "id": "6xACnXIIiU4h"
   },
   "source": [
    "## Imports"
   ]
  },
  {
   "cell_type": "code",
   "execution_count": 26,
   "metadata": {
    "executionInfo": {
     "elapsed": 5,
     "status": "ok",
     "timestamp": 1743919407975,
     "user": {
      "displayName": "Tanvi Vidyala",
      "userId": "01379561174080227550"
     },
     "user_tz": 420
    },
    "id": "Yu7dgJGslF-R"
   },
   "outputs": [],
   "source": [
    "import pandas as pd\n",
    "import tensorflow as tf\n",
    "from tensorflow.keras.preprocessing.image import ImageDataGenerator\n",
    "from tensorflow.keras.applications import MobileNetV2\n",
    "from tensorflow.keras.layers import GlobalAveragePooling2D, Dense, Dropout\n",
    "from tensorflow.keras.models import Model\n",
    "from sklearn.metrics import classification_report\n",
    "import matplotlib.pyplot as plt\n",
    "import numpy as np\n",
    "import os"
   ]
  },
  {
   "cell_type": "markdown",
   "metadata": {
    "id": "Ua6ey8bJRrr-"
   },
   "source": [
    "## Creating Dataset"
   ]
  },
  {
   "cell_type": "markdown",
   "metadata": {
    "id": "cdmsASPtq_3W"
   },
   "source": [
    "### Hollister"
   ]
  },
  {
   "cell_type": "code",
   "execution_count": 27,
   "metadata": {
    "colab": {
     "base_uri": "https://localhost:8080/",
     "height": 304
    },
    "executionInfo": {
     "elapsed": 30,
     "status": "ok",
     "timestamp": 1743919408975,
     "user": {
      "displayName": "Tanvi Vidyala",
      "userId": "01379561174080227550"
     },
     "user_tz": 420
    },
    "id": "dicPQHZLwTFW",
    "outputId": "81557d23-4adc-4d4b-c198-338325092061"
   },
   "outputs": [
    {
     "data": {
      "text/html": [
       "<div>\n",
       "<style scoped>\n",
       "    .dataframe tbody tr th:only-of-type {\n",
       "        vertical-align: middle;\n",
       "    }\n",
       "\n",
       "    .dataframe tbody tr th {\n",
       "        vertical-align: top;\n",
       "    }\n",
       "\n",
       "    .dataframe thead th {\n",
       "        text-align: right;\n",
       "    }\n",
       "</style>\n",
       "<table border=\"1\" class=\"dataframe\">\n",
       "  <thead>\n",
       "    <tr style=\"text-align: right;\">\n",
       "      <th></th>\n",
       "      <th>count</th>\n",
       "    </tr>\n",
       "    <tr>\n",
       "      <th>fit</th>\n",
       "      <th></th>\n",
       "    </tr>\n",
       "  </thead>\n",
       "  <tbody>\n",
       "    <tr>\n",
       "      <th>baggy</th>\n",
       "      <td>225</td>\n",
       "    </tr>\n",
       "    <tr>\n",
       "      <th>straight</th>\n",
       "      <td>79</td>\n",
       "    </tr>\n",
       "    <tr>\n",
       "      <th>skinny</th>\n",
       "      <td>52</td>\n",
       "    </tr>\n",
       "    <tr>\n",
       "      <th>bootcut</th>\n",
       "      <td>42</td>\n",
       "    </tr>\n",
       "    <tr>\n",
       "      <th>wide</th>\n",
       "      <td>13</td>\n",
       "    </tr>\n",
       "    <tr>\n",
       "      <th>other</th>\n",
       "      <td>8</td>\n",
       "    </tr>\n",
       "  </tbody>\n",
       "</table>\n",
       "</div><br><label><b>dtype:</b> int64</label>"
      ],
      "text/plain": [
       "fit\n",
       "baggy       225\n",
       "straight     79\n",
       "skinny       52\n",
       "bootcut      42\n",
       "wide         13\n",
       "other         8\n",
       "Name: count, dtype: int64"
      ]
     },
     "execution_count": 27,
     "metadata": {},
     "output_type": "execute_result"
    }
   ],
   "source": [
    "import pandas as pd\n",
    "\n",
    "hollister = pd.read_csv('/content/drive/MyDrive/Datahacks/data/hollister-and-aero.csv')\n",
    "\n",
    "keywords = ['skinny', 'straight', 'bootcut', 'baggy', 'wide']\n",
    "\n",
    "def simplify_name(name):\n",
    "    name = str(name).lower()\n",
    "\n",
    "    # Specific phrase mappings\n",
    "    if 'barrel leg' in name:\n",
    "        return 'wide'\n",
    "    if 'jegging' in name:\n",
    "        return 'skinny'\n",
    "    if 'relaxed' in name:\n",
    "        return 'baggy'\n",
    "    if 'slim' in name:\n",
    "        return 'straight'\n",
    "    if 'athletic' in name and 'slim' in name:\n",
    "        return 'straight'\n",
    "\n",
    "    # General keyword mappings\n",
    "    if 'flare' in name:\n",
    "        return 'bootcut'\n",
    "    if 'boyfriend' in name:\n",
    "        return 'baggy'\n",
    "    if 'wide' in name:\n",
    "        return 'wide'\n",
    "    if 'boot' in name:\n",
    "        return 'bootcut'\n",
    "    if 'legging' in name:\n",
    "        return 'skinny'\n",
    "    if 'loose' in name:\n",
    "        return 'baggy'\n",
    "    if 'dad' in name or 'mom' in name:\n",
    "        return 'straight'\n",
    "    if 'taper' in name:\n",
    "        return 'straight'\n",
    "    if 'jogger' in name or 'cargo' in name:\n",
    "        return 'baggy'\n",
    "\n",
    "    for keyword in keywords:\n",
    "        if keyword in name:\n",
    "            return keyword\n",
    "\n",
    "    return 'other'  # Catch-all for unmatched cases\n",
    "\n",
    "# Apply the updated simplifier\n",
    "hollister['fit'] = hollister['name'].apply(simplify_name)\n",
    "\n",
    "# Optional: count and show the simplified categories\n",
    "hollister.value_counts('fit')"
   ]
  },
  {
   "cell_type": "markdown",
   "metadata": {
    "id": "MtV6irycRv23"
   },
   "source": [
    "### Levi's"
   ]
  },
  {
   "cell_type": "code",
   "execution_count": 28,
   "metadata": {
    "executionInfo": {
     "elapsed": 15,
     "status": "ok",
     "timestamp": 1743919411143,
     "user": {
      "displayName": "Tanvi Vidyala",
      "userId": "01379561174080227550"
     },
     "user_tz": 420
    },
    "id": "h9HnE6Y2QNrg"
   },
   "outputs": [],
   "source": [
    "levis = pd.read_csv('/content/drive/MyDrive/Datahacks/data/levis.csv')\n",
    "\n",
    "def simplify_name(name):\n",
    "    name = str(name).lower()\n",
    "    if 'boot' in name:\n",
    "        return 'bootcut'\n",
    "    if 'straight' in name:\n",
    "        return 'straight'\n",
    "    if 'slim' in name:\n",
    "        return 'skinny'\n",
    "    if 'skinny' in name:\n",
    "        return 'skinny'\n",
    "    elif 'legging' in name:\n",
    "        return 'skinny'\n",
    "    elif 'loose' in name:\n",
    "        return 'baggy'\n",
    "    elif 'dad' in name or 'mom' in name:\n",
    "        return 'straight'\n",
    "    elif 'taper' in name:\n",
    "        return 'straight'\n",
    "    elif 'jogger' in name or 'cargo' in name:\n",
    "        return 'baggy'\n",
    "    if 'speed' in name:\n",
    "        return name  # Leave \"speed jeans\" unchanged\n",
    "    if '511' in name or 'slim fit' in name or 'shaping slim' in name:\n",
    "        return 'skinny'\n",
    "    if 'skinny' in name or 'legging' in name:\n",
    "        return 'skinny'\n",
    "    if 'flare' in name or 'bell' in name:\n",
    "        return 'bootcut'\n",
    "    if 'wide' in name or 'culotte' in name or 'barrel' in name:\n",
    "        return 'wide-leg'\n",
    "    if 'boyfriend' in name or 'baggy' in name:\n",
    "        return 'baggy'\n",
    "    if 'relaxed' in name:\n",
    "        return 'baggy'\n",
    "    if 'carpenter' in name or 'overalls' in name or 'shortalls' in name:\n",
    "        return 'baggy'\n",
    "    if '505' in name or '501' in name or 'regular fit' in name or 'low pro' in name or 'ribcage full' in name or 'wedgie' in name or 'chino' in name:\n",
    "        return 'straight'\n",
    "    if 'column' in name or '701' in name or 'vintage clothing' in name:\n",
    "        return 'straight'\n",
    "    else:\n",
    "      return name\n",
    "levis['fit'] = levis['name'].apply(simplify_name)"
   ]
  },
  {
   "cell_type": "markdown",
   "metadata": {
    "id": "v-IEv68WrEXw"
   },
   "source": [
    "### Lucky Brand"
   ]
  },
  {
   "cell_type": "code",
   "execution_count": 29,
   "metadata": {
    "colab": {
     "base_uri": "https://localhost:8080/",
     "height": 617
    },
    "executionInfo": {
     "elapsed": 18,
     "status": "ok",
     "timestamp": 1743919412578,
     "user": {
      "displayName": "Tanvi Vidyala",
      "userId": "01379561174080227550"
     },
     "user_tz": 420
    },
    "id": "T-4S8ledrGGf",
    "outputId": "938674c5-880c-401f-fc80-48c3ed55ba3c"
   },
   "outputs": [
    {
     "data": {
      "text/html": [
       "<div>\n",
       "<style scoped>\n",
       "    .dataframe tbody tr th:only-of-type {\n",
       "        vertical-align: middle;\n",
       "    }\n",
       "\n",
       "    .dataframe tbody tr th {\n",
       "        vertical-align: top;\n",
       "    }\n",
       "\n",
       "    .dataframe thead th {\n",
       "        text-align: right;\n",
       "    }\n",
       "</style>\n",
       "<table border=\"1\" class=\"dataframe\">\n",
       "  <thead>\n",
       "    <tr style=\"text-align: right;\">\n",
       "      <th></th>\n",
       "      <th>count</th>\n",
       "    </tr>\n",
       "    <tr>\n",
       "      <th>fit</th>\n",
       "      <th></th>\n",
       "    </tr>\n",
       "  </thead>\n",
       "  <tbody>\n",
       "    <tr>\n",
       "      <th>straight</th>\n",
       "      <td>98</td>\n",
       "    </tr>\n",
       "    <tr>\n",
       "      <th>bootcut</th>\n",
       "      <td>59</td>\n",
       "    </tr>\n",
       "    <tr>\n",
       "      <th>other</th>\n",
       "      <td>43</td>\n",
       "    </tr>\n",
       "    <tr>\n",
       "      <th>skinny</th>\n",
       "      <td>40</td>\n",
       "    </tr>\n",
       "    <tr>\n",
       "      <th>wide-leg</th>\n",
       "      <td>28</td>\n",
       "    </tr>\n",
       "    <tr>\n",
       "      <th>baggy</th>\n",
       "      <td>26</td>\n",
       "    </tr>\n",
       "    <tr>\n",
       "      <th>410 athletic sateen stretch jean</th>\n",
       "      <td>4</td>\n",
       "    </tr>\n",
       "    <tr>\n",
       "      <th>gold rush pioneer jean</th>\n",
       "      <td>3</td>\n",
       "    </tr>\n",
       "    <tr>\n",
       "      <th>patch pocket pull on jean</th>\n",
       "      <td>1</td>\n",
       "    </tr>\n",
       "    <tr>\n",
       "      <th>gold rush legend easy rider</th>\n",
       "      <td>1</td>\n",
       "    </tr>\n",
       "    <tr>\n",
       "      <th>denim track pant</th>\n",
       "      <td>1</td>\n",
       "    </tr>\n",
       "    <tr>\n",
       "      <th>denim shirt dress</th>\n",
       "      <td>1</td>\n",
       "    </tr>\n",
       "    <tr>\n",
       "      <th>denim overall midi dress</th>\n",
       "      <td>1</td>\n",
       "    </tr>\n",
       "    <tr>\n",
       "      <th>track pant</th>\n",
       "      <td>1</td>\n",
       "    </tr>\n",
       "    <tr>\n",
       "      <th>liquid denim luxe blazer</th>\n",
       "      <td>1</td>\n",
       "    </tr>\n",
       "    <tr>\n",
       "      <th>uni fit</th>\n",
       "      <td>1</td>\n",
       "    </tr>\n",
       "  </tbody>\n",
       "</table>\n",
       "</div><br><label><b>dtype:</b> int64</label>"
      ],
      "text/plain": [
       "fit\n",
       "straight                            98\n",
       "bootcut                             59\n",
       "other                               43\n",
       "skinny                              40\n",
       "wide-leg                            28\n",
       "baggy                               26\n",
       "410 athletic sateen stretch jean     4\n",
       "gold rush pioneer jean               3\n",
       "patch pocket pull on jean            1\n",
       "gold rush legend easy rider          1\n",
       "denim track pant                     1\n",
       "denim shirt dress                    1\n",
       "denim overall midi dress             1\n",
       "track pant                           1\n",
       "liquid denim luxe blazer             1\n",
       "uni fit                              1\n",
       "Name: count, dtype: int64"
      ]
     },
     "execution_count": 29,
     "metadata": {},
     "output_type": "execute_result"
    }
   ],
   "source": [
    "lucky = pd.read_csv('/content/drive/MyDrive/Datahacks/data/lucky.csv')\n",
    "\n",
    "def simplify_name(name):\n",
    "    name = str(name).lower()\n",
    "    if 'boot' in name:\n",
    "        return 'bootcut'\n",
    "    if 'straight' in name:\n",
    "        return 'straight'\n",
    "    if 'slim' in name:\n",
    "        return 'skinny'\n",
    "    if 'skinny' in name:\n",
    "        return 'skinny'\n",
    "    elif 'legging' in name:\n",
    "        return 'skinny'\n",
    "    elif 'loose' in name:\n",
    "        return 'baggy'\n",
    "    elif 'dad' in name or 'mom' in name:\n",
    "        return 'straight'\n",
    "    elif 'taper' in name:\n",
    "        return 'straight'\n",
    "    elif 'jogger' in name or 'cargo' in name:\n",
    "        return 'baggy'\n",
    "    if '511' in name or 'slim fit' in name or 'shaping slim' in name:\n",
    "        return 'skinny'\n",
    "    if 'skinny' in name or 'legging' in name:\n",
    "        return 'skinny'\n",
    "    if 'flare' in name or 'bell' in name:\n",
    "        return 'bootcut'\n",
    "    if 'wide' in name or 'culotte' in name or 'barrel' in name:\n",
    "        return 'wide-leg'\n",
    "    if 'boyfriend' in name or 'baggy' in name:\n",
    "        return 'baggy'\n",
    "    if 'relaxed' in name:\n",
    "        return 'baggy'\n",
    "    if 'carpenter' in name or 'overalls' in name or 'shortalls' in name:\n",
    "        return 'baggy'\n",
    "    if 'short' in name:\n",
    "        return 'other'\n",
    "    if 'skirt' in name:\n",
    "        return 'other'\n",
    "    if 'jacket' in name:\n",
    "        return 'other'\n",
    "    if 'vest' in name:\n",
    "        return 'other'\n",
    "    if 'mid rise boy' in name:\n",
    "        return 'other'\n",
    "    if 'crop' in name:\n",
    "        return 'other'\n",
    "    else:\n",
    "      return name\n",
    "lucky['fit'] = lucky['name'].apply(simplify_name)\n",
    "lucky['fit'].value_counts()"
   ]
  },
  {
   "cell_type": "markdown",
   "metadata": {
    "id": "MOlgNAGdRy2B"
   },
   "source": [
    "# Final Dataset"
   ]
  },
  {
   "cell_type": "code",
   "execution_count": 30,
   "metadata": {
    "executionInfo": {
     "elapsed": 15,
     "status": "ok",
     "timestamp": 1743919415561,
     "user": {
      "displayName": "Tanvi Vidyala",
      "userId": "01379561174080227550"
     },
     "user_tz": 420
    },
    "id": "7G43ZXD4vwxg"
   },
   "outputs": [],
   "source": [
    "extra_wide = pd.read_csv('/content/drive/MyDrive/Datahacks/data/extra-wide-leg.csv')"
   ]
  },
  {
   "cell_type": "code",
   "execution_count": 31,
   "metadata": {
    "colab": {
     "base_uri": "https://localhost:8080/",
     "height": 272
    },
    "executionInfo": {
     "elapsed": 26,
     "status": "ok",
     "timestamp": 1743919416284,
     "user": {
      "displayName": "Tanvi Vidyala",
      "userId": "01379561174080227550"
     },
     "user_tz": 420
    },
    "id": "e_6UeU6K4B6f",
    "outputId": "3b912bb7-490a-45ce-cef0-e2ac26e4dbfd"
   },
   "outputs": [
    {
     "data": {
      "text/html": [
       "<div>\n",
       "<style scoped>\n",
       "    .dataframe tbody tr th:only-of-type {\n",
       "        vertical-align: middle;\n",
       "    }\n",
       "\n",
       "    .dataframe tbody tr th {\n",
       "        vertical-align: top;\n",
       "    }\n",
       "\n",
       "    .dataframe thead th {\n",
       "        text-align: right;\n",
       "    }\n",
       "</style>\n",
       "<table border=\"1\" class=\"dataframe\">\n",
       "  <thead>\n",
       "    <tr style=\"text-align: right;\">\n",
       "      <th></th>\n",
       "      <th>count</th>\n",
       "    </tr>\n",
       "    <tr>\n",
       "      <th>fit</th>\n",
       "      <th></th>\n",
       "    </tr>\n",
       "  </thead>\n",
       "  <tbody>\n",
       "    <tr>\n",
       "      <th>straight</th>\n",
       "      <td>365</td>\n",
       "    </tr>\n",
       "    <tr>\n",
       "      <th>baggy</th>\n",
       "      <td>278</td>\n",
       "    </tr>\n",
       "    <tr>\n",
       "      <th>skinny</th>\n",
       "      <td>155</td>\n",
       "    </tr>\n",
       "    <tr>\n",
       "      <th>bootcut</th>\n",
       "      <td>148</td>\n",
       "    </tr>\n",
       "    <tr>\n",
       "      <th>wide-leg</th>\n",
       "      <td>63</td>\n",
       "    </tr>\n",
       "  </tbody>\n",
       "</table>\n",
       "</div><br><label><b>dtype:</b> int64</label>"
      ],
      "text/plain": [
       "fit\n",
       "straight    365\n",
       "baggy       278\n",
       "skinny      155\n",
       "bootcut     148\n",
       "wide-leg     63\n",
       "Name: count, dtype: int64"
      ]
     },
     "execution_count": 31,
     "metadata": {},
     "output_type": "execute_result"
    }
   ],
   "source": [
    "jeans = pd.concat([hollister, levis, lucky], ignore_index=True)\n",
    "jeans = jeans.drop(columns=['cell-image-link href'])\n",
    "jeans = pd.concat([extra_wide, jeans], ignore_index = True)\n",
    "jeans = jeans[jeans['fit'].isin(['baggy', 'wide-leg', 'skinny', 'straight', 'bootcut'])]\n",
    "jeans = jeans.dropna(subset=['image'])\n",
    "jeans['fit'].value_counts()"
   ]
  },
  {
   "cell_type": "markdown",
   "metadata": {
    "id": "yTWOajLNYNim"
   },
   "source": [
    "## Image Creation"
   ]
  },
  {
   "cell_type": "code",
   "execution_count": 32,
   "metadata": {
    "executionInfo": {
     "elapsed": 3,
     "status": "ok",
     "timestamp": 1743919421959,
     "user": {
      "displayName": "Tanvi Vidyala",
      "userId": "01379561174080227550"
     },
     "user_tz": 420
    },
    "id": "JTYo00744hCj"
   },
   "outputs": [],
   "source": [
    "import pandas as pd\n",
    "import os\n",
    "import requests\n",
    "from tqdm import tqdm\n",
    "from PIL import Image\n",
    "from io import BytesIO"
   ]
  },
  {
   "cell_type": "code",
   "execution_count": 33,
   "metadata": {
    "executionInfo": {
     "elapsed": 44,
     "status": "ok",
     "timestamp": 1743919423360,
     "user": {
      "displayName": "Tanvi Vidyala",
      "userId": "01379561174080227550"
     },
     "user_tz": 420
    },
    "id": "yCjbWVHEYRwg"
   },
   "outputs": [],
   "source": [
    "def download_images(jeans_type, output_dir):\n",
    "\n",
    "  jeans_type = jeans[jeans['fit'] == jeans_type]\n",
    "  os.makedirs(output_dir, exist_ok=True)\n",
    "\n",
    "  # Loop through and download + resize\n",
    "  for i, url in tqdm(enumerate(jeans_type['image'])):\n",
    "      if pd.isna(url):\n",
    "          continue  # Skip missing links\n",
    "      try:\n",
    "          response = requests.get(url, timeout=10)\n",
    "          if response.status_code == 200:\n",
    "              # Load image from response\n",
    "              img = Image.open(BytesIO(response.content)).convert(\"RGB\")\n",
    "              img = img.resize((224, 224))  # Resize to MobileNetV2 input size\n",
    "\n",
    "              # Save as JPEG\n",
    "              filename = f\"{jeans_type}_{i}.jpg\"\n",
    "              img.save(os.path.join(output_dir, filename), format='JPEG')\n",
    "          else:\n",
    "              print(f\"⚠️ Skipped {url} (status {response.status_code})\")\n",
    "      except Exception as e:\n",
    "          print(f\"❌ Error at {url}: {e}\")"
   ]
  },
  {
   "cell_type": "markdown",
   "metadata": {
    "id": "JcRU8PXBiY3i"
   },
   "source": [
    "\n",
    "\n",
    "```\n",
    "download_images('skinny', '/content/drive/MyDrive/Datahacks/data/skinny')\n",
    "download_images('bootcut', '/content/drive/MyDrive/Datahacks/data/bootcut')\n",
    "download_images('wide-leg', '/content/drive/MyDrive/Datahacks/data/wide-leg')\n",
    "download_images('straight', '/content/drive/MyDrive/Datahacks/data/straight')\n",
    "download_images('baggy', '/content/drive/MyDrive/Datahacks/data/baggy')\n",
    "```\n",
    "\n",
    "\n",
    "\n"
   ]
  },
  {
   "cell_type": "markdown",
   "metadata": {
    "id": "XMBIvLETjN43"
   },
   "source": [
    "## Augmenting the Dataset"
   ]
  },
  {
   "cell_type": "raw",
   "metadata": {
    "colab": {
     "base_uri": "https://localhost:8080/"
    },
    "executionInfo": {
     "elapsed": 3943,
     "status": "ok",
     "timestamp": 1743923384021,
     "user": {
      "displayName": "Tanvi Vidyala",
      "userId": "01379561174080227550"
     },
     "user_tz": 420
    },
    "id": "RLdapSPY2wnZ",
    "outputId": "8e9dc2ce-b824-4aa7-b740-e775a5db523e"
   },
   "source": [
    "from torchvision import transforms\n",
    "from torchvision.transforms import functional as F\n",
    "import os\n",
    "from PIL import Image\n",
    "\n",
    "base_path = '/content/drive/MyDrive/Datahacks/data'\n",
    "target_count = 300\n",
    "\n",
    "# Include ToTensor so augmentation works properly\n",
    "transform = transforms.Compose([\n",
    "    transforms.ToTensor(),  # Convert PIL → Tensor\n",
    "    transforms.RandomHorizontalFlip(),\n",
    "    transforms.RandomRotation(degrees=15),\n",
    "    transforms.ColorJitter(brightness=0.2, contrast=0.2, saturation=0.2),\n",
    "    transforms.RandomResizedCrop(size=(224, 224), scale=(0.8, 1.0)),\n",
    "])\n",
    "\n",
    "def augment_folder(folder_name):\n",
    "    folder_path = os.path.join(base_path, folder_name)\n",
    "    images = [f for f in os.listdir(folder_path) if f.endswith(('jpg', 'jpeg', 'png'))]\n",
    "    print(f\"Found {len(images)} images in '{folder_name}'\")\n",
    "\n",
    "    count = len(images)\n",
    "    idx = 0\n",
    "    while count < target_count:\n",
    "        img_name = images[idx % len(images)]\n",
    "        img_path = os.path.join(folder_path, img_name)\n",
    "\n",
    "        img = Image.open(img_path).convert(\"RGB\")\n",
    "        augmented_tensor = transform(img)  # This is now a Tensor\n",
    "        augmented_pil = F.to_pil_image(augmented_tensor)  # Convert Tensor → PIL\n",
    "\n",
    "        new_filename = f\"aug_{count}.jpg\"\n",
    "        augmented_pil.save(os.path.join(folder_path, new_filename))\n",
    "        count += 1\n",
    "        idx += 1\n",
    "\n",
    "    print(f\"✅ '{folder_name}' now has {count} images.\")\n",
    "\n",
    "# Run it\n",
    "print(\"Starting augmentation...\")\n",
    "augment_folder('bootcut')\n",
    "augment_folder('wide-leg')\n",
    "augment_folder('straight')\n",
    "augment_folder('baggy')\n",
    "augment_folder('skinny')\n",
    "print(\"All done.\")"
   ]
  },
  {
   "cell_type": "markdown",
   "metadata": {
    "id": "E_vOKcixjRYb"
   },
   "source": [
    "## Training and Testing"
   ]
  },
  {
   "cell_type": "code",
   "execution_count": 49,
   "metadata": {
    "colab": {
     "base_uri": "https://localhost:8080/",
     "height": 1000
    },
    "executionInfo": {
     "elapsed": 952412,
     "status": "ok",
     "timestamp": 1743924339599,
     "user": {
      "displayName": "Tanvi Vidyala",
      "userId": "01379561174080227550"
     },
     "user_tz": 420
    },
    "id": "JbwTeqtk2SKj",
    "outputId": "e437a4ca-700e-44e0-9b22-d8e805bd348e"
   },
   "outputs": [
    {
     "name": "stdout",
     "output_type": "stream",
     "text": [
      "Found 1204 images belonging to 5 classes.\n",
      "Found 300 images belonging to 5 classes.\n"
     ]
    },
    {
     "name": "stderr",
     "output_type": "stream",
     "text": [
      "/usr/local/lib/python3.11/dist-packages/keras/src/trainers/data_adapters/py_dataset_adapter.py:121: UserWarning: Your `PyDataset` class should call `super().__init__(**kwargs)` in its constructor. `**kwargs` can include `workers`, `use_multiprocessing`, `max_queue_size`. Do not pass these arguments to `fit()`, as they will be ignored.\n",
      "  self._warn_if_super_not_called()\n"
     ]
    },
    {
     "name": "stdout",
     "output_type": "stream",
     "text": [
      "Epoch 1/10\n",
      "\u001b[1m38/38\u001b[0m \u001b[32m━━━━━━━━━━━━━━━━━━━━\u001b[0m\u001b[37m\u001b[0m \u001b[1m91s\u001b[0m 2s/step - accuracy: 0.2229 - loss: 1.7549 - val_accuracy: 0.3767 - val_loss: 1.4882\n",
      "Epoch 2/10\n",
      "\u001b[1m38/38\u001b[0m \u001b[32m━━━━━━━━━━━━━━━━━━━━\u001b[0m\u001b[37m\u001b[0m \u001b[1m141s\u001b[0m 2s/step - accuracy: 0.3561 - loss: 1.4568 - val_accuracy: 0.5267 - val_loss: 1.3318\n",
      "Epoch 3/10\n",
      "\u001b[1m38/38\u001b[0m \u001b[32m━━━━━━━━━━━━━━━━━━━━\u001b[0m\u001b[37m\u001b[0m \u001b[1m80s\u001b[0m 2s/step - accuracy: 0.4725 - loss: 1.2658 - val_accuracy: 0.5067 - val_loss: 1.2456\n",
      "Epoch 4/10\n",
      "\u001b[1m38/38\u001b[0m \u001b[32m━━━━━━━━━━━━━━━━━━━━\u001b[0m\u001b[37m\u001b[0m \u001b[1m79s\u001b[0m 2s/step - accuracy: 0.5422 - loss: 1.1570 - val_accuracy: 0.5100 - val_loss: 1.1412\n",
      "Epoch 5/10\n",
      "\u001b[1m38/38\u001b[0m \u001b[32m━━━━━━━━━━━━━━━━━━━━\u001b[0m\u001b[37m\u001b[0m \u001b[1m78s\u001b[0m 2s/step - accuracy: 0.5417 - loss: 1.1101 - val_accuracy: 0.5533 - val_loss: 1.1415\n",
      "Epoch 6/10\n",
      "\u001b[1m38/38\u001b[0m \u001b[32m━━━━━━━━━━━━━━━━━━━━\u001b[0m\u001b[37m\u001b[0m \u001b[1m80s\u001b[0m 2s/step - accuracy: 0.5306 - loss: 1.0849 - val_accuracy: 0.5400 - val_loss: 1.1291\n",
      "Epoch 7/10\n",
      "\u001b[1m38/38\u001b[0m \u001b[32m━━━━━━━━━━━━━━━━━━━━\u001b[0m\u001b[37m\u001b[0m \u001b[1m78s\u001b[0m 2s/step - accuracy: 0.5851 - loss: 1.0176 - val_accuracy: 0.5867 - val_loss: 1.0699\n",
      "Epoch 8/10\n",
      "\u001b[1m38/38\u001b[0m \u001b[32m━━━━━━━━━━━━━━━━━━━━\u001b[0m\u001b[37m\u001b[0m \u001b[1m80s\u001b[0m 2s/step - accuracy: 0.6306 - loss: 0.9417 - val_accuracy: 0.6067 - val_loss: 1.0101\n",
      "Epoch 9/10\n",
      "\u001b[1m38/38\u001b[0m \u001b[32m━━━━━━━━━━━━━━━━━━━━\u001b[0m\u001b[37m\u001b[0m \u001b[1m80s\u001b[0m 2s/step - accuracy: 0.6558 - loss: 0.9007 - val_accuracy: 0.6467 - val_loss: 0.9838\n",
      "Epoch 10/10\n",
      "\u001b[1m38/38\u001b[0m \u001b[32m━━━━━━━━━━━━━━━━━━━━\u001b[0m\u001b[37m\u001b[0m \u001b[1m83s\u001b[0m 2s/step - accuracy: 0.6615 - loss: 0.8868 - val_accuracy: 0.6067 - val_loss: 1.0231\n",
      "\u001b[1m10/10\u001b[0m \u001b[32m━━━━━━━━━━━━━━━━━━━━\u001b[0m\u001b[37m\u001b[0m \u001b[1m19s\u001b[0m 2s/step\n",
      "              precision    recall  f1-score   support\n",
      "\n",
      "       baggy       0.60      0.45      0.51        60\n",
      "     bootcut       0.50      0.60      0.55        60\n",
      "      skinny       0.61      0.90      0.72        60\n",
      "    straight       0.46      0.20      0.28        60\n",
      "    wide-leg       0.74      0.83      0.78        60\n",
      "\n",
      "    accuracy                           0.60       300\n",
      "   macro avg       0.58      0.60      0.57       300\n",
      "weighted avg       0.58      0.60      0.57       300\n",
      "\n"
     ]
    },
    {
     "data": {
      "image/png": "[encoded data removed]",
      "text/plain": [
       "<Figure size 800x500 with 1 Axes>"
      ]
     },
     "metadata": {},
     "output_type": "display_data"
    },
    {
     "name": "stderr",
     "output_type": "stream",
     "text": [
      "WARNING:absl:You are saving your model as an HDF5 file via `model.save()` or `keras.saving.save_model(model)`. This file format is considered legacy. We recommend using instead the native Keras format, e.g. `model.save('my_model.keras')` or `keras.saving.save_model(model, 'my_model.keras')`. \n"
     ]
    }
   ],
   "source": [
    "import numpy as np\n",
    "import matplotlib.pyplot as plt\n",
    "from tensorflow.keras.preprocessing.image import ImageDataGenerator\n",
    "from tensorflow.keras.applications import MobileNetV2\n",
    "from tensorflow.keras.models import Model\n",
    "from tensorflow.keras.layers import GlobalAveragePooling2D, Dropout, Dense\n",
    "from tensorflow.keras.optimizers import Adam\n",
    "from sklearn.metrics import classification_report\n",
    "\n",
    "# Parameters\n",
    "IMAGE_SIZE = (224, 224)\n",
    "BATCH_SIZE = 32\n",
    "EPOCHS = 10\n",
    "DATA_DIR = \"/content/drive/MyDrive/Datahacks/data\"\n",
    "\n",
    "# Data augmentation and preprocessing\n",
    "train_datagen = ImageDataGenerator(\n",
    "    rescale=1./255,\n",
    "    validation_split=0.2,\n",
    "    horizontal_flip=True,\n",
    "    zoom_range=0.2,\n",
    "    shear_range=0.1,\n",
    "    rotation_range=10\n",
    ")\n",
    "\n",
    "train_gen = train_datagen.flow_from_directory(\n",
    "    DATA_DIR,\n",
    "    target_size=IMAGE_SIZE,\n",
    "    batch_size=BATCH_SIZE,\n",
    "    class_mode='categorical',\n",
    "    subset='training',\n",
    "    shuffle=True\n",
    ")\n",
    "\n",
    "val_gen = train_datagen.flow_from_directory(\n",
    "    DATA_DIR,\n",
    "    target_size=IMAGE_SIZE,\n",
    "    batch_size=BATCH_SIZE,\n",
    "    class_mode='categorical',\n",
    "    subset='validation',\n",
    "    shuffle=False\n",
    ")\n",
    "\n",
    "# Load MobileNetV2 base\n",
    "base_model = MobileNetV2(\n",
    "    include_top=False,\n",
    "    weights='imagenet',\n",
    "    input_shape=(IMAGE_SIZE[0], IMAGE_SIZE[1], 3)\n",
    ")\n",
    "\n",
    "base_model.trainable = False  # Freeze convolutional base\n",
    "\n",
    "# Add custom head\n",
    "x = base_model.output\n",
    "x = GlobalAveragePooling2D()(x)\n",
    "x = Dropout(0.3)(x)\n",
    "x = Dense(128, activation='relu')(x)\n",
    "output = Dense(train_gen.num_classes, activation='softmax')(x)\n",
    "\n",
    "model = Model(inputs=base_model.input, outputs=output)\n",
    "\n",
    "# Compile model\n",
    "model.compile(\n",
    "    optimizer=Adam(learning_rate=0.0001),\n",
    "    loss='categorical_crossentropy',\n",
    "    metrics=['accuracy']\n",
    ")\n",
    "\n",
    "# Train model\n",
    "history = model.fit(\n",
    "    train_gen,\n",
    "    validation_data=val_gen,\n",
    "    epochs=EPOCHS\n",
    ")\n",
    "\n",
    "# Evaluate model\n",
    "val_gen.reset()\n",
    "y_pred = model.predict(val_gen)\n",
    "y_pred_classes = np.argmax(y_pred, axis=1)\n",
    "y_true = val_gen.classes\n",
    "\n",
    "# Get the full list of class labels from the training generator\n",
    "class_labels = list(train_gen.class_indices.keys())\n",
    "\n",
    "# Print classification report\n",
    "print(classification_report(\n",
    "    y_true,\n",
    "    y_pred_classes,\n",
    "    labels=np.arange(len(class_labels)),  # [0, 1, 2, ...]\n",
    "    target_names=class_labels\n",
    "))\n",
    "\n",
    "# Plot training accuracy\n",
    "plt.figure(figsize=(8, 5))\n",
    "plt.plot(history.history['accuracy'], label='Train Accuracy')\n",
    "plt.plot(history.history['val_accuracy'], label='Validation Accuracy')\n",
    "plt.title(\"Model Accuracy Over Epochs\")\n",
    "plt.xlabel(\"Epoch\")\n",
    "plt.ylabel(\"Accuracy\")\n",
    "plt.legend()\n",
    "plt.grid(True)\n",
    "plt.show()\n",
    "\n",
    "model.save(\"jean_fit_classifier.h5\")"
   ]
  },
  {
   "cell_type": "markdown",
   "metadata": {
    "id": "zXLS7uUp5-Ei"
   },
   "source": [
    "## Confusion Matrix"
   ]
  },
  {
   "cell_type": "code",
   "execution_count": 50,
   "metadata": {
    "colab": {
     "base_uri": "https://localhost:8080/",
     "height": 1000
    },
    "executionInfo": {
     "elapsed": 677,
     "status": "ok",
     "timestamp": 1743924345640,
     "user": {
      "displayName": "Tanvi Vidyala",
      "userId": "01379561174080227550"
     },
     "user_tz": 420
    },
    "id": "1ENDh5OD59pm",
    "outputId": "1d9a2501-67e1-4770-9ec7-e21b6415fb96"
   },
   "outputs": [
    {
     "data": {
      "image/png": "[encoded data removed]",
      "text/plain": [
       "<Figure size 800x600 with 2 Axes>"
      ]
     },
     "metadata": {},
     "output_type": "display_data"
    },
    {
     "name": "stdout",
     "output_type": "stream",
     "text": [
      "              precision    recall  f1-score   support\n",
      "\n",
      "       baggy       0.60      0.45      0.51        60\n",
      "     bootcut       0.50      0.60      0.55        60\n",
      "      skinny       0.61      0.90      0.72        60\n",
      "    straight       0.46      0.20      0.28        60\n",
      "    wide-leg       0.74      0.83      0.78        60\n",
      "\n",
      "    accuracy                           0.60       300\n",
      "   macro avg       0.58      0.60      0.57       300\n",
      "weighted avg       0.58      0.60      0.57       300\n",
      "\n"
     ]
    },
    {
     "data": {
      "image/png": "[encoded data removed]",
      "text/plain": [
       "<Figure size 800x600 with 2 Axes>"
      ]
     },
     "metadata": {},
     "output_type": "display_data"
    }
   ],
   "source": [
    "from sklearn.metrics import confusion_matrix\n",
    "import seaborn as sns\n",
    "\n",
    "# Compute confusion matrix\n",
    "cm = confusion_matrix(y_true, y_pred_classes)\n",
    "\n",
    "# Plot confusion matrix\n",
    "plt.figure(figsize=(8, 6))\n",
    "sns.heatmap(cm, annot=True, fmt='d', cmap='Blues',\n",
    "            xticklabels=class_labels,\n",
    "            yticklabels=class_labels)\n",
    "plt.title(\"Confusion Matrix\")\n",
    "plt.xlabel(\"Predicted Label\")\n",
    "plt.ylabel(\"True Label\")\n",
    "plt.show()\n",
    "\n",
    "# Print classification report with full label mapping\n",
    "print(classification_report(\n",
    "    y_true,\n",
    "    y_pred_classes,\n",
    "    labels=np.arange(len(class_labels)),\n",
    "    target_names=class_labels\n",
    "))\n",
    "\n",
    "# Plot confusion matrix\n",
    "from sklearn.metrics import confusion_matrix\n",
    "import seaborn as sns\n",
    "\n",
    "cm = confusion_matrix(y_true, y_pred_classes)\n",
    "\n",
    "plt.figure(figsize=(8, 6))\n",
    "sns.heatmap(cm, annot=True, fmt='d', cmap='Blues',\n",
    "            xticklabels=class_labels,\n",
    "            yticklabels=class_labels)\n",
    "plt.title(\"Confusion Matrix\")\n",
    "plt.xlabel(\"Predicted Label\")\n",
    "plt.ylabel(\"True Label\")\n",
    "plt.show()\n"
   ]
  },
  {
   "cell_type": "markdown",
   "metadata": {
    "id": "MFiB-SGnjhbe"
   },
   "source": [
    "### Saving the Model"
   ]
  },
  {
   "cell_type": "code",
   "execution_count": 18,
   "metadata": {
    "colab": {
     "base_uri": "https://localhost:8080/"
    },
    "executionInfo": {
     "elapsed": 1122,
     "status": "ok",
     "timestamp": 1743917038379,
     "user": {
      "displayName": "Tanvi Vidyala",
      "userId": "01379561174080227550"
     },
     "user_tz": 420
    },
    "id": "kvuyBZocjZ-T",
    "outputId": "fc50cf46-ff4d-4aa8-f233-f988b393f050"
   },
   "outputs": [
    {
     "name": "stderr",
     "output_type": "stream",
     "text": [
      "WARNING:absl:You are saving your model as an HDF5 file via `model.save()` or `keras.saving.save_model(model)`. This file format is considered legacy. We recommend using instead the native Keras format, e.g. `model.save('my_model.keras')` or `keras.saving.save_model(model, 'my_model.keras')`. \n"
     ]
    }
   ],
   "source": [
    "model.save(\"jean_fit_classifier.h5\")"
   ]
  }
 ],
 "metadata": {
  "colab": {
   "authorship_tag": "ABX9TyNEIQCd+v/R7kvu6oYqnwwb",
   "collapsed_sections": [
    "YaP0KCweiSzA"
   ],
   "mount_file_id": "1U8DtcDs6tMYtiv0xYo-xT98XDTYTe0Va",
   "provenance": []
  },
  "kernelspec": {
   "display_name": "Python 3 (ipykernel)",
   "language": "python",
   "name": "python3"
  },
  "language_info": {
   "codemirror_mode": {
    "name": "ipython",
    "version": 3
   },
   "file_extension": ".py",
   "mimetype": "text/x-python",
   "name": "python",
   "nbconvert_exporter": "python",
   "pygments_lexer": "ipython3",
   "version": "3.11.5"
  }
 },
 "nbformat": 4,
 "nbformat_minor": 1
}
