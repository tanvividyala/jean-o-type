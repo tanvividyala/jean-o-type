{
 "cells": [
  {
   "cell_type": "markdown",
   "metadata": {
    "id": "YaP0KCweiSzA"
   },
   "source": [
    "# What's Your Jean-o-Type?"
   ]
  },
  {
   "cell_type": "markdown",
   "metadata": {
    "id": "6xACnXIIiU4h"
   },
   "source": [
    "## Imports"
   ]
  },
  {
   "cell_type": "code",
   "execution_count": 1,
   "metadata": {
    "executionInfo": {
     "elapsed": 5,
     "status": "ok",
     "timestamp": 1743919407975,
     "user": {
      "displayName": "Tanvi Vidyala",
      "userId": "01379561174080227550"
     },
     "user_tz": 420
    },
    "id": "Yu7dgJGslF-R"
   },
   "outputs": [],
   "source": [
    "import pandas as pd\n",
    "import tensorflow as tf\n",
    "from tensorflow.keras.preprocessing.image import ImageDataGenerator\n",
    "from tensorflow.keras.applications import MobileNetV2\n",
    "from tensorflow.keras.layers import GlobalAveragePooling2D, Dense, Dropout\n",
    "from tensorflow.keras.models import Model\n",
    "from sklearn.metrics import classification_report\n",
    "import matplotlib.pyplot as plt\n",
    "import numpy as np\n",
    "import os"
   ]
  },
  {
   "cell_type": "markdown",
   "metadata": {
    "id": "Ua6ey8bJRrr-"
   },
   "source": [
    "## Creating Dataset"
   ]
  },
  {
   "cell_type": "markdown",
   "metadata": {
    "id": "cdmsASPtq_3W"
   },
   "source": [
    "### Hollister"
   ]
  },
  {
   "cell_type": "code",
   "execution_count": 2,
   "metadata": {
    "colab": {
     "base_uri": "https://localhost:8080/",
     "height": 304
    },
    "executionInfo": {
     "elapsed": 30,
     "status": "ok",
     "timestamp": 1743919408975,
     "user": {
      "displayName": "Tanvi Vidyala",
      "userId": "01379561174080227550"
     },
     "user_tz": 420
    },
    "id": "dicPQHZLwTFW",
    "outputId": "81557d23-4adc-4d4b-c198-338325092061"
   },
   "outputs": [],
   "source": [
    "import pandas as pd\n",
    "\n",
    "hollister = pd.read_csv('data/hollister.csv')\n",
    "\n",
    "keywords = ['skinny', 'straight', 'bootcut', 'baggy', 'wide']\n",
    "\n",
    "def simplify_name(name):\n",
    "    name = str(name).lower()\n",
    "\n",
    "    # Specific phrase mappings\n",
    "    if 'barrel leg' in name:\n",
    "        return 'wide'\n",
    "    if 'jegging' in name:\n",
    "        return 'skinny'\n",
    "    if 'relaxed' in name:\n",
    "        return 'baggy'\n",
    "    if 'slim' in name:\n",
    "        return 'straight'\n",
    "    if 'athletic' in name and 'slim' in name:\n",
    "        return 'straight'\n",
    "\n",
    "    # General keyword mappings\n",
    "    if 'flare' in name:\n",
    "        return 'bootcut'\n",
    "    if 'boyfriend' in name:\n",
    "        return 'baggy'\n",
    "    if 'wide' in name:\n",
    "        return 'wide'\n",
    "    if 'boot' in name:\n",
    "        return 'bootcut'\n",
    "    if 'legging' in name:\n",
    "        return 'skinny'\n",
    "    if 'loose' in name:\n",
    "        return 'baggy'\n",
    "    if 'dad' in name or 'mom' in name:\n",
    "        return 'straight'\n",
    "    if 'taper' in name:\n",
    "        return 'straight'\n",
    "    if 'jogger' in name or 'cargo' in name:\n",
    "        return 'baggy'\n",
    "\n",
    "    for keyword in keywords:\n",
    "        if keyword in name:\n",
    "            return keyword\n",
    "\n",
    "    return 'other'  \n",
    "\n",
    "hollister['fit'] = hollister['name'].apply(simplify_name)"
   ]
  },
  {
   "cell_type": "markdown",
   "metadata": {
    "id": "MtV6irycRv23"
   },
   "source": [
    "### Levi's"
   ]
  },
  {
   "cell_type": "code",
   "execution_count": 3,
   "metadata": {
    "executionInfo": {
     "elapsed": 15,
     "status": "ok",
     "timestamp": 1743919411143,
     "user": {
      "displayName": "Tanvi Vidyala",
      "userId": "01379561174080227550"
     },
     "user_tz": 420
    },
    "id": "h9HnE6Y2QNrg"
   },
   "outputs": [],
   "source": [
    "levis = pd.read_csv('data/levis.csv')\n",
    "\n",
    "def simplify_name(name):\n",
    "    name = str(name).lower()\n",
    "    if 'boot' in name:\n",
    "        return 'bootcut'\n",
    "    if 'straight' in name:\n",
    "        return 'straight'\n",
    "    if 'slim' in name:\n",
    "        return 'skinny'\n",
    "    if 'skinny' in name:\n",
    "        return 'skinny'\n",
    "    elif 'legging' in name:\n",
    "        return 'skinny'\n",
    "    elif 'loose' in name:\n",
    "        return 'baggy'\n",
    "    elif 'dad' in name or 'mom' in name:\n",
    "        return 'straight'\n",
    "    elif 'taper' in name:\n",
    "        return 'straight'\n",
    "    elif 'jogger' in name or 'cargo' in name:\n",
    "        return 'baggy'\n",
    "    if 'speed' in name:\n",
    "        return name  # Leave \"speed jeans\" unchanged\n",
    "    if '511' in name or 'slim fit' in name or 'shaping slim' in name:\n",
    "        return 'skinny'\n",
    "    if 'skinny' in name or 'legging' in name:\n",
    "        return 'skinny'\n",
    "    if 'flare' in name or 'bell' in name:\n",
    "        return 'bootcut'\n",
    "    if 'wide' in name or 'culotte' in name or 'barrel' in name:\n",
    "        return 'wide-leg'\n",
    "    if 'boyfriend' in name or 'baggy' in name:\n",
    "        return 'baggy'\n",
    "    if 'relaxed' in name:\n",
    "        return 'baggy'\n",
    "    if 'carpenter' in name or 'overalls' in name or 'shortalls' in name:\n",
    "        return 'baggy'\n",
    "    if '505' in name or '501' in name or 'regular fit' in name or 'low pro' in name or 'ribcage full' in name or 'wedgie' in name or 'chino' in name:\n",
    "        return 'straight'\n",
    "    if 'column' in name or '701' in name or 'vintage clothing' in name:\n",
    "        return 'straight'\n",
    "    else:\n",
    "      return name\n",
    "levis['fit'] = levis['name'].apply(simplify_name)"
   ]
  },
  {
   "cell_type": "markdown",
   "metadata": {
    "id": "v-IEv68WrEXw"
   },
   "source": [
    "### Lucky Brand"
   ]
  },
  {
   "cell_type": "code",
   "execution_count": 4,
   "metadata": {
    "colab": {
     "base_uri": "https://localhost:8080/",
     "height": 617
    },
    "executionInfo": {
     "elapsed": 18,
     "status": "ok",
     "timestamp": 1743919412578,
     "user": {
      "displayName": "Tanvi Vidyala",
      "userId": "01379561174080227550"
     },
     "user_tz": 420
    },
    "id": "T-4S8ledrGGf",
    "outputId": "938674c5-880c-401f-fc80-48c3ed55ba3c"
   },
   "outputs": [],
   "source": [
    "lucky = pd.read_csv('data/lucky.csv')\n",
    "\n",
    "def simplify_name(name):\n",
    "    name = str(name).lower()\n",
    "    if 'boot' in name:\n",
    "        return 'bootcut'\n",
    "    if 'straight' in name:\n",
    "        return 'straight'\n",
    "    if 'slim' in name:\n",
    "        return 'skinny'\n",
    "    if 'skinny' in name:\n",
    "        return 'skinny'\n",
    "    elif 'legging' in name:\n",
    "        return 'skinny'\n",
    "    elif 'loose' in name:\n",
    "        return 'baggy'\n",
    "    elif 'dad' in name or 'mom' in name:\n",
    "        return 'straight'\n",
    "    elif 'taper' in name:\n",
    "        return 'straight'\n",
    "    elif 'jogger' in name or 'cargo' in name:\n",
    "        return 'baggy'\n",
    "    if '511' in name or 'slim fit' in name or 'shaping slim' in name:\n",
    "        return 'skinny'\n",
    "    if 'skinny' in name or 'legging' in name:\n",
    "        return 'skinny'\n",
    "    if 'flare' in name or 'bell' in name:\n",
    "        return 'bootcut'\n",
    "    if 'wide' in name or 'culotte' in name or 'barrel' in name:\n",
    "        return 'wide-leg'\n",
    "    if 'boyfriend' in name or 'baggy' in name:\n",
    "        return 'baggy'\n",
    "    if 'relaxed' in name:\n",
    "        return 'baggy'\n",
    "    if 'carpenter' in name or 'overalls' in name or 'shortalls' in name:\n",
    "        return 'baggy'\n",
    "    if 'short' in name:\n",
    "        return 'other'\n",
    "    if 'skirt' in name:\n",
    "        return 'other'\n",
    "    if 'jacket' in name:\n",
    "        return 'other'\n",
    "    if 'vest' in name:\n",
    "        return 'other'\n",
    "    if 'mid rise boy' in name:\n",
    "        return 'other'\n",
    "    if 'crop' in name:\n",
    "        return 'other'\n",
    "    else:\n",
    "      return name\n",
    "lucky['fit'] = lucky['name'].apply(simplify_name)"
   ]
  },
  {
   "cell_type": "markdown",
   "metadata": {
    "id": "MOlgNAGdRy2B"
   },
   "source": [
    "# Final Dataset"
   ]
  },
  {
   "cell_type": "code",
   "execution_count": 5,
   "metadata": {
    "executionInfo": {
     "elapsed": 15,
     "status": "ok",
     "timestamp": 1743919415561,
     "user": {
      "displayName": "Tanvi Vidyala",
      "userId": "01379561174080227550"
     },
     "user_tz": 420
    },
    "id": "7G43ZXD4vwxg"
   },
   "outputs": [],
   "source": [
    "extra_wide = pd.read_csv('data/extra-wide-leg.csv')"
   ]
  },
  {
   "cell_type": "code",
   "execution_count": 6,
   "metadata": {
    "colab": {
     "base_uri": "https://localhost:8080/",
     "height": 272
    },
    "executionInfo": {
     "elapsed": 26,
     "status": "ok",
     "timestamp": 1743919416284,
     "user": {
      "displayName": "Tanvi Vidyala",
      "userId": "01379561174080227550"
     },
     "user_tz": 420
    },
    "id": "e_6UeU6K4B6f",
    "outputId": "3b912bb7-490a-45ce-cef0-e2ac26e4dbfd"
   },
   "outputs": [
    {
     "data": {
      "text/plain": [
       "straight    335\n",
       "baggy       251\n",
       "skinny      137\n",
       "bootcut     130\n",
       "wide-leg     63\n",
       "Name: fit, dtype: int64"
      ]
     },
     "execution_count": 6,
     "metadata": {},
     "output_type": "execute_result"
    }
   ],
   "source": [
    "jeans = pd.concat([hollister, levis, lucky], ignore_index=True)\n",
    "jeans = jeans.drop(columns=['cell-image-link href'])\n",
    "jeans = pd.concat([extra_wide, jeans], ignore_index = True)\n",
    "jeans = jeans[jeans['fit'].isin(['baggy', 'wide-leg', 'skinny', 'straight', 'bootcut'])]\n",
    "jeans = jeans.dropna(subset=['image'])\n",
    "jeans['fit'].value_counts()"
   ]
  },
  {
   "cell_type": "markdown",
   "metadata": {
    "id": "yTWOajLNYNim"
   },
   "source": [
    "## Image Creation"
   ]
  },
  {
   "cell_type": "code",
   "execution_count": 7,
   "metadata": {
    "executionInfo": {
     "elapsed": 3,
     "status": "ok",
     "timestamp": 1743919421959,
     "user": {
      "displayName": "Tanvi Vidyala",
      "userId": "01379561174080227550"
     },
     "user_tz": 420
    },
    "id": "JTYo00744hCj"
   },
   "outputs": [],
   "source": [
    "import pandas as pd\n",
    "import os\n",
    "import requests\n",
    "from tqdm import tqdm\n",
    "from PIL import Image\n",
    "from io import BytesIO"
   ]
  },
  {
   "cell_type": "code",
   "execution_count": 8,
   "metadata": {
    "executionInfo": {
     "elapsed": 44,
     "status": "ok",
     "timestamp": 1743919423360,
     "user": {
      "displayName": "Tanvi Vidyala",
      "userId": "01379561174080227550"
     },
     "user_tz": 420
    },
    "id": "yCjbWVHEYRwg"
   },
   "outputs": [],
   "source": [
    "def download_images(jeans_type, output_dir):\n",
    "\n",
    "  jeans_type = jeans[jeans['fit'] == jeans_type]\n",
    "  os.makedirs(output_dir, exist_ok=True)\n",
    "\n",
    "  # Loop through and download + resize\n",
    "  for i, url in tqdm(enumerate(jeans_type['image'])):\n",
    "      if pd.isna(url):\n",
    "          continue  # Skip missing links\n",
    "      try:\n",
    "          response = requests.get(url, timeout=10)\n",
    "          if response.status_code == 200:\n",
    "              # Load image from response\n",
    "              img = Image.open(BytesIO(response.content)).convert(\"RGB\")\n",
    "              img = img.resize((224, 224))  # Resize to MobileNetV2 input size\n",
    "\n",
    "              # Save as JPEG\n",
    "              filename = f\"{jeans_type}_{i}.jpg\"\n",
    "              img.save(os.path.join(output_dir, filename), format='JPEG')\n",
    "          else:\n",
    "              print(f\"⚠️ Skipped {url} (status {response.status_code})\")\n",
    "      except Exception as e:\n",
    "          print(f\"❌ Error at {url}: {e}\")"
   ]
  },
  {
   "cell_type": "markdown",
   "metadata": {
    "id": "JcRU8PXBiY3i"
   },
   "source": [
    "\n",
    "\n",
    "```\n",
    "download_images('skinny', '/content/drive/MyDrive/Datahacks/data/skinny')\n",
    "download_images('bootcut', '/content/drive/MyDrive/Datahacks/data/bootcut')\n",
    "download_images('wide-leg', '/content/drive/MyDrive/Datahacks/data/wide-leg')\n",
    "download_images('straight', '/content/drive/MyDrive/Datahacks/data/straight')\n",
    "download_images('baggy', '/content/drive/MyDrive/Datahacks/data/baggy')\n",
    "```\n",
    "\n",
    "\n",
    "\n"
   ]
  },
  {
   "cell_type": "markdown",
   "metadata": {
    "id": "XMBIvLETjN43"
   },
   "source": [
    "## Augmenting the Dataset"
   ]
  },
  {
   "cell_type": "raw",
   "metadata": {
    "colab": {
     "base_uri": "https://localhost:8080/"
    },
    "executionInfo": {
     "elapsed": 3943,
     "status": "ok",
     "timestamp": 1743923384021,
     "user": {
      "displayName": "Tanvi Vidyala",
      "userId": "01379561174080227550"
     },
     "user_tz": 420
    },
    "id": "RLdapSPY2wnZ",
    "outputId": "8e9dc2ce-b824-4aa7-b740-e775a5db523e"
   },
   "source": [
    "from torchvision import transforms\n",
    "from torchvision.transforms import functional as F\n",
    "import os\n",
    "from PIL import Image\n",
    "\n",
    "base_path = '/content/drive/MyDrive/Datahacks/data'\n",
    "target_count = 300\n",
    "\n",
    "# Include ToTensor so augmentation works properly\n",
    "transform = transforms.Compose([\n",
    "    transforms.ToTensor(),  # Convert PIL → Tensor\n",
    "    transforms.RandomHorizontalFlip(),\n",
    "    transforms.RandomRotation(degrees=15),\n",
    "    transforms.ColorJitter(brightness=0.2, contrast=0.2, saturation=0.2),\n",
    "    transforms.RandomResizedCrop(size=(224, 224), scale=(0.8, 1.0)),\n",
    "])\n",
    "\n",
    "def augment_folder(folder_name):\n",
    "    folder_path = os.path.join(base_path, folder_name)\n",
    "    images = [f for f in os.listdir(folder_path) if f.endswith(('jpg', 'jpeg', 'png'))]\n",
    "    print(f\"Found {len(images)} images in '{folder_name}'\")\n",
    "\n",
    "    count = len(images)\n",
    "    idx = 0\n",
    "    while count < target_count:\n",
    "        img_name = images[idx % len(images)]\n",
    "        img_path = os.path.join(folder_path, img_name)\n",
    "\n",
    "        img = Image.open(img_path).convert(\"RGB\")\n",
    "        augmented_tensor = transform(img)  # This is now a Tensor\n",
    "        augmented_pil = F.to_pil_image(augmented_tensor)  # Convert Tensor → PIL\n",
    "\n",
    "        new_filename = f\"aug_{count}.jpg\"\n",
    "        augmented_pil.save(os.path.join(folder_path, new_filename))\n",
    "        count += 1\n",
    "        idx += 1\n",
    "\n",
    "    print(f\"✅ '{folder_name}' now has {count} images.\")\n",
    "\n",
    "# Run it\n",
    "print(\"Starting augmentation...\")\n",
    "augment_folder('bootcut')\n",
    "augment_folder('wide-leg')\n",
    "augment_folder('straight')\n",
    "augment_folder('baggy')\n",
    "augment_folder('skinny')\n",
    "print(\"All done.\")"
   ]
  },
  {
   "cell_type": "markdown",
   "metadata": {
    "id": "E_vOKcixjRYb"
   },
   "source": [
    "## Training and Testing"
   ]
  },
  {
   "cell_type": "code",
   "execution_count": 9,
   "metadata": {
    "colab": {
     "base_uri": "https://localhost:8080/",
     "height": 1000
    },
    "executionInfo": {
     "elapsed": 952412,
     "status": "ok",
     "timestamp": 1743924339599,
     "user": {
      "displayName": "Tanvi Vidyala",
      "userId": "01379561174080227550"
     },
     "user_tz": 420
    },
    "id": "JbwTeqtk2SKj",
    "outputId": "e437a4ca-700e-44e0-9b22-d8e805bd348e"
   },
   "outputs": [
    {
     "name": "stdout",
     "output_type": "stream",
     "text": [
      "Found 1204 images belonging to 5 classes.\n",
      "Found 300 images belonging to 5 classes.\n"
     ]
    },
    {
     "name": "stderr",
     "output_type": "stream",
     "text": [
      "WARNING:absl:At this time, the v2.11+ optimizer `tf.keras.optimizers.Adam` runs slowly on M1/M2 Macs, please use the legacy Keras optimizer instead, located at `tf.keras.optimizers.legacy.Adam`.\n"
     ]
    },
    {
     "name": "stdout",
     "output_type": "stream",
     "text": [
      "Epoch 1/10\n",
      "38/38 [==============================] - 29s 740ms/step - loss: 1.6495 - accuracy: 0.2774 - val_loss: 1.5321 - val_accuracy: 0.3367\n",
      "Epoch 2/10\n",
      "38/38 [==============================] - 28s 737ms/step - loss: 1.3565 - accuracy: 0.4286 - val_loss: 1.4226 - val_accuracy: 0.4700\n",
      "Epoch 3/10\n",
      "38/38 [==============================] - 31s 809ms/step - loss: 1.2258 - accuracy: 0.4975 - val_loss: 1.2181 - val_accuracy: 0.5233\n",
      "Epoch 4/10\n",
      "38/38 [==============================] - 30s 802ms/step - loss: 1.1666 - accuracy: 0.5249 - val_loss: 1.2462 - val_accuracy: 0.5200\n",
      "Epoch 5/10\n",
      "38/38 [==============================] - 29s 756ms/step - loss: 1.1158 - accuracy: 0.5332 - val_loss: 1.1649 - val_accuracy: 0.5700\n",
      "Epoch 6/10\n",
      "38/38 [==============================] - 28s 750ms/step - loss: 1.0377 - accuracy: 0.5731 - val_loss: 1.1732 - val_accuracy: 0.5600\n",
      "Epoch 7/10\n",
      "38/38 [==============================] - 31s 817ms/step - loss: 0.9719 - accuracy: 0.5997 - val_loss: 1.0584 - val_accuracy: 0.5933\n",
      "Epoch 8/10\n",
      "38/38 [==============================] - 28s 733ms/step - loss: 0.9302 - accuracy: 0.6337 - val_loss: 1.0654 - val_accuracy: 0.5933\n",
      "Epoch 9/10\n",
      "38/38 [==============================] - 30s 801ms/step - loss: 0.9108 - accuracy: 0.6420 - val_loss: 1.0416 - val_accuracy: 0.6233\n",
      "Epoch 10/10\n",
      "38/38 [==============================] - 28s 746ms/step - loss: 0.8762 - accuracy: 0.6578 - val_loss: 1.0446 - val_accuracy: 0.6133\n",
      "10/10 [==============================] - 6s 513ms/step\n",
      "              precision    recall  f1-score   support\n",
      "\n",
      "       baggy       0.57      0.40      0.47        60\n",
      "     bootcut       0.47      0.75      0.58        60\n",
      "      skinny       0.67      0.83      0.74        60\n",
      "    straight       0.45      0.22      0.29        60\n",
      "    wide-leg       0.81      0.80      0.81        60\n",
      "\n",
      "    accuracy                           0.60       300\n",
      "   macro avg       0.59      0.60      0.58       300\n",
      "weighted avg       0.59      0.60      0.58       300\n",
      "\n"
     ]
    },
    {
     "data": {
      "image/png": "[encoded data removed]",
      "text/plain": [
       "<Figure size 800x500 with 1 Axes>"
      ]
     },
     "metadata": {},
     "output_type": "display_data"
    }
   ],
   "source": [
    "import numpy as np\n",
    "import matplotlib.pyplot as plt\n",
    "from tensorflow.keras.preprocessing.image import ImageDataGenerator\n",
    "from tensorflow.keras.applications import MobileNetV2\n",
    "from tensorflow.keras.models import Model\n",
    "from tensorflow.keras.layers import GlobalAveragePooling2D, Dropout, Dense\n",
    "from tensorflow.keras.optimizers import Adam\n",
    "from sklearn.metrics import classification_report\n",
    "\n",
    "# Parameters\n",
    "IMAGE_SIZE = (224, 224)\n",
    "BATCH_SIZE = 32\n",
    "EPOCHS = 10\n",
    "DATA_DIR = \"data\"\n",
    "\n",
    "# Data augmentation and preprocessing\n",
    "train_datagen = ImageDataGenerator(\n",
    "    rescale=1./255,\n",
    "    validation_split=0.2,\n",
    "    horizontal_flip=True,\n",
    "    zoom_range=0.2,\n",
    "    shear_range=0.1,\n",
    "    rotation_range=10\n",
    ")\n",
    "\n",
    "train_gen = train_datagen.flow_from_directory(\n",
    "    DATA_DIR,\n",
    "    target_size=IMAGE_SIZE,\n",
    "    batch_size=BATCH_SIZE,\n",
    "    class_mode='categorical',\n",
    "    subset='training',\n",
    "    shuffle=True\n",
    ")\n",
    "\n",
    "val_gen = train_datagen.flow_from_directory(\n",
    "    DATA_DIR,\n",
    "    target_size=IMAGE_SIZE,\n",
    "    batch_size=BATCH_SIZE,\n",
    "    class_mode='categorical',\n",
    "    subset='validation',\n",
    "    shuffle=False\n",
    ")\n",
    "\n",
    "# Load MobileNetV2 base\n",
    "base_model = MobileNetV2(\n",
    "    include_top=False,\n",
    "    weights='imagenet',\n",
    "    input_shape=(IMAGE_SIZE[0], IMAGE_SIZE[1], 3)\n",
    ")\n",
    "\n",
    "base_model.trainable = False  # Freeze convolutional base\n",
    "\n",
    "# Add custom head\n",
    "x = base_model.output\n",
    "x = GlobalAveragePooling2D()(x)\n",
    "x = Dropout(0.3)(x)\n",
    "x = Dense(128, activation='relu')(x)\n",
    "output = Dense(train_gen.num_classes, activation='softmax')(x)\n",
    "\n",
    "model = Model(inputs=base_model.input, outputs=output)\n",
    "\n",
    "# Compile model\n",
    "model.compile(\n",
    "    optimizer=Adam(learning_rate=0.0001),\n",
    "    loss='categorical_crossentropy',\n",
    "    metrics=['accuracy']\n",
    ")\n",
    "\n",
    "# Train model\n",
    "history = model.fit(\n",
    "    train_gen,\n",
    "    validation_data=val_gen,\n",
    "    epochs=EPOCHS\n",
    ")\n",
    "\n",
    "# Evaluate model\n",
    "val_gen.reset()\n",
    "y_pred = model.predict(val_gen)\n",
    "y_pred_classes = np.argmax(y_pred, axis=1)\n",
    "y_true = val_gen.classes\n",
    "\n",
    "# Get the full list of class labels from the training generator\n",
    "class_labels = list(train_gen.class_indices.keys())\n",
    "\n",
    "# Print classification report\n",
    "print(classification_report(\n",
    "    y_true,\n",
    "    y_pred_classes,\n",
    "    labels=np.arange(len(class_labels)),  # [0, 1, 2, ...]\n",
    "    target_names=class_labels\n",
    "))\n",
    "\n",
    "# Plot training accuracy\n",
    "plt.figure(figsize=(8, 5))\n",
    "plt.plot(history.history['accuracy'], label='Train Accuracy')\n",
    "plt.plot(history.history['val_accuracy'], label='Validation Accuracy')\n",
    "plt.title(\"Model Accuracy Over Epochs\")\n",
    "plt.xlabel(\"Epoch\")\n",
    "plt.ylabel(\"Accuracy\")\n",
    "plt.legend()\n",
    "plt.grid(True)\n",
    "plt.show()"
   ]
  },
  {
   "cell_type": "markdown",
   "metadata": {
    "id": "zXLS7uUp5-Ei"
   },
   "source": [
    "## Confusion Matrix"
   ]
  },
  {
   "cell_type": "code",
   "execution_count": 10,
   "metadata": {
    "colab": {
     "base_uri": "https://localhost:8080/",
     "height": 1000
    },
    "executionInfo": {
     "elapsed": 677,
     "status": "ok",
     "timestamp": 1743924345640,
     "user": {
      "displayName": "Tanvi Vidyala",
      "userId": "01379561174080227550"
     },
     "user_tz": 420
    },
    "id": "1ENDh5OD59pm",
    "outputId": "1d9a2501-67e1-4770-9ec7-e21b6415fb96"
   },
   "outputs": [
    {
     "data": {
      "image/png": "[encoded data removed]",
      "text/plain": [
       "<Figure size 800x600 with 2 Axes>"
      ]
     },
     "metadata": {},
     "output_type": "display_data"
    },
    {
     "name": "stdout",
     "output_type": "stream",
     "text": [
      "              precision    recall  f1-score   support\n",
      "\n",
      "       baggy       0.57      0.40      0.47        60\n",
      "     bootcut       0.47      0.75      0.58        60\n",
      "      skinny       0.67      0.83      0.74        60\n",
      "    straight       0.45      0.22      0.29        60\n",
      "    wide-leg       0.81      0.80      0.81        60\n",
      "\n",
      "    accuracy                           0.60       300\n",
      "   macro avg       0.59      0.60      0.58       300\n",
      "weighted avg       0.59      0.60      0.58       300\n",
      "\n"
     ]
    },
    {
     "data": {
      "image/png": "[encoded data removed]",
      "text/plain": [
       "<Figure size 800x600 with 2 Axes>"
      ]
     },
     "metadata": {},
     "output_type": "display_data"
    }
   ],
   "source": [
    "from sklearn.metrics import confusion_matrix\n",
    "import seaborn as sns\n",
    "\n",
    "# Compute confusion matrix\n",
    "cm = confusion_matrix(y_true, y_pred_classes)\n",
    "\n",
    "# Plot confusion matrix\n",
    "plt.figure(figsize=(8, 6))\n",
    "sns.heatmap(cm, annot=True, fmt='d', cmap='Blues',\n",
    "            xticklabels=class_labels,\n",
    "            yticklabels=class_labels)\n",
    "plt.title(\"Confusion Matrix\")\n",
    "plt.xlabel(\"Predicted Label\")\n",
    "plt.ylabel(\"True Label\")\n",
    "plt.show()\n",
    "\n",
    "# Print classification report with full label mapping\n",
    "print(classification_report(\n",
    "    y_true,\n",
    "    y_pred_classes,\n",
    "    labels=np.arange(len(class_labels)),\n",
    "    target_names=class_labels\n",
    "))\n",
    "\n",
    "# Plot confusion matrix\n",
    "from sklearn.metrics import confusion_matrix\n",
    "import seaborn as sns\n",
    "\n",
    "cm = confusion_matrix(y_true, y_pred_classes)\n",
    "\n",
    "plt.figure(figsize=(8, 6))\n",
    "sns.heatmap(cm, annot=True, fmt='d', cmap='Blues',\n",
    "            xticklabels=class_labels,\n",
    "            yticklabels=class_labels)\n",
    "plt.title(\"Confusion Matrix\")\n",
    "plt.xlabel(\"Predicted Label\")\n",
    "plt.ylabel(\"True Label\")\n",
    "plt.show()\n"
   ]
  },
  {
   "cell_type": "markdown",
   "metadata": {
    "id": "MFiB-SGnjhbe"
   },
   "source": [
    "### Saving the Model"
   ]
  },
  {
   "cell_type": "code",
   "execution_count": 16,
   "metadata": {
    "colab": {
     "base_uri": "https://localhost:8080/"
    },
    "executionInfo": {
     "elapsed": 1122,
     "status": "ok",
     "timestamp": 1743917038379,
     "user": {
      "displayName": "Tanvi Vidyala",
      "userId": "01379561174080227550"
     },
     "user_tz": 420
    },
    "id": "kvuyBZocjZ-T",
    "outputId": "fc50cf46-ff4d-4aa8-f233-f988b393f050"
   },
   "outputs": [
    {
     "name": "stderr",
     "output_type": "stream",
     "text": [
      "/Users/tvidyala/anaconda3/lib/python3.11/site-packages/keras/src/engine/training.py:3103: UserWarning: You are saving your model as an HDF5 file via `model.save()`. This file format is considered legacy. We recommend using instead the native Keras format, e.g. `model.save('my_model.keras')`.\n",
      "  saving_api.save_model(\n"
     ]
    }
   ],
   "source": [
    "from tensorflow.keras.models import load_model, save_model\n",
    "model.save(\"jean_fit_classifier.h5\")"
   ]
  }
 ],
 "metadata": {
  "colab": {
   "authorship_tag": "ABX9TyNEIQCd+v/R7kvu6oYqnwwb",
   "collapsed_sections": [
    "YaP0KCweiSzA"
   ],
   "mount_file_id": "1U8DtcDs6tMYtiv0xYo-xT98XDTYTe0Va",
   "provenance": []
  },
  "kernelspec": {
   "display_name": "Python 3 (ipykernel)",
   "language": "python",
   "name": "python3"
  },
  "language_info": {
   "codemirror_mode": {
    "name": "ipython",
    "version": 3
   },
   "file_extension": ".py",
   "mimetype": "text/x-python",
   "name": "python",
   "nbconvert_exporter": "python",
   "pygments_lexer": "ipython3",
   "version": "3.11.5"
  }
 },
 "nbformat": 4,
 "nbformat_minor": 1
}
